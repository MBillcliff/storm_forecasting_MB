{
 "cells": [
  {
   "cell_type": "markdown",
   "id": "9beb62bb-d5bb-4222-9615-9c8df2b718e7",
   "metadata": {},
   "source": [
    "# Running Ambient HUXt Ensemble"
   ]
  },
  {
   "cell_type": "code",
   "execution_count": null,
   "id": "b7e348a0-ca9d-4706-a24c-6817fdc26053",
   "metadata": {},
   "outputs": [],
   "source": [
    "%load_ext autoreload\n",
    "%autoreload 2"
   ]
  },
  {
   "cell_type": "code",
   "execution_count": null,
   "id": "647ebb48-fbde-412a-b126-bd48996fe189",
   "metadata": {},
   "outputs": [],
   "source": [
    "import os\n",
    "import sys\n",
    "from sunpy.coordinates.sun import carrington_rotation_number\n",
    "import datetime\n",
    "import pandas as pd\n",
    "\n",
    "huxt_utils_dir = os.path.join(os.getcwd(), 'src', 'huxt')\n",
    "\n",
    "sys.path.append(huxt_utils_dir)\n",
    "\n",
    "import huxt_utils as HU"
   ]
  },
  {
   "cell_type": "code",
   "execution_count": null,
   "id": "cfab7db8-2b02-4d95-838d-1307390fd6f4",
   "metadata": {},
   "outputs": [],
   "source": [
    "# Specify rotation numbers\n",
    "\n",
    "start_cr = int(carrington_rotation_number(datetime.datetime(1995, 1, 1))) + 1     # This is as far back Hpo data goes\n",
    "end_cr = int(carrington_rotation_number(datetime.datetime(2025, 1, 1))) - 1       # stop at last CR of 2024\n",
    "n_crs = end_cr - start_cr  # Number of CRs to include\n",
    "\n",
    "seed = 151201  # Random seed for ensemble perturbations\n",
    "\n",
    "OVERWRITE=True   # Will overwrite previous huxt runs with same run_number if True\n",
    "\n",
    "run_number = 1\n",
    "save_dir = f'HUXt{run_number}'\n",
    "\n",
    "# Run the ambient huxt for specified CRS\n",
    "HU.run_multiple_ambient_ensembles(start_cr, n_crs, n_ensemble=100, seed=seed, save_folder=save_dir, overwrite=OVERWRITE)"
   ]
  },
  {
   "cell_type": "code",
   "execution_count": null,
   "id": "21d392b1-d840-43c2-bd99-b9b7d5ea91c6",
   "metadata": {},
   "outputs": [],
   "source": [
    "# Checking that files have saved properly\n",
    "cr = 1892\n",
    "file_location = os.path.join(os.getcwd(), 'src', 'data', 'HUXt', save_dir, f'HUXt_rotation_{cr}')\n",
    "df = pd.read_parquet(file_location)\n",
    "df.head()"
   ]
  },
  {
   "cell_type": "code",
   "execution_count": null,
   "id": "cb8d7c96-98a7-499e-be51-45ec9a24106b",
   "metadata": {},
   "outputs": [],
   "source": []
  }
 ],
 "metadata": {
  "kernelspec": {
   "display_name": "Python 3 (ipykernel)",
   "language": "python",
   "name": "python3"
  },
  "language_info": {
   "codemirror_mode": {
    "name": "ipython",
    "version": 3
   },
   "file_extension": ".py",
   "mimetype": "text/x-python",
   "name": "python",
   "nbconvert_exporter": "python",
   "pygments_lexer": "ipython3",
   "version": "3.9.19"
  }
 },
 "nbformat": 4,
 "nbformat_minor": 5
}
