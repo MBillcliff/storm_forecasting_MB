


%load_ext autoreload
%autoreload 2


import pandas as pd
import os
import sys

ml_utils_dir = os.path.join(os.getcwd(), 'src', 'ml')

sys.path.append(ml_utils_dir)

# Get functions for processing hp30
from data_loader import process_hp30_data





times, hp30 = process_hp30_data()   # Read in downloaded hp30 data

df = pd.DataFrame(data=hp30, columns=['hp30'], index=times)   # Convert to pandas DataFrame

df.to_parquet(os.path.join(os.getcwd(), 'src', 'data', 'hp30df.parquet'))  # Save as parquet file for efficient loading


# Check that data was saved properly

loaded_df = pd.read_parquet(os.path.join(os.getcwd(), 'src', 'data', 'hp30df.parquet'))
loaded_df.head()





file_path = os.path.join(os.getcwd(), 'src', 'data', 'omni.txt')
omni_df = pd.read_csv(file_path, sep='\s+', names=['YEAR', 'DOY', 'HR', 'Velocity'], header=None)

datetime_index = pd.to_datetime(omni_df['YEAR'] * 1000 + omni_df['DOY'], format='%Y%j') + pd.to_timedelta(omni_df['HR'], unit='h')

# Set the datetime index to the DataFrame
df = omni_df.set_index(datetime_index, inplace=False)

# Drop the 'Year', 'Day', and 'Hour' columns
df.drop(columns=['YEAR', 'DOY', 'HR'], inplace=True)

save_loc = os.path.join(os.getcwd(), 'src', 'data', 'OMNI_solar_wind.parquet')
df.to_parquet(save_loc)


# Check data was saved correctly

loaded_df = pd.read_parquet(save_loc)
loaded_df.head()
