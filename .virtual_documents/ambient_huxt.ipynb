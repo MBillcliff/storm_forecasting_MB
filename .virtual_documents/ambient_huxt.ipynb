


%load_ext autoreload
%autoreload 2


import os
import sys
from sunpy.coordinates.sun import carrington_rotation_number
import datetime
import pandas as pd

huxt_utils_dir = os.path.join(os.getcwd(), 'src', 'huxt')

sys.path.append(huxt_utils_dir)

import huxt_utils as HU


# Specify rotation numbers

start_cr = int(carrington_rotation_number(datetime.datetime(1995, 1, 1))) + 1     # This is as far back Hpo data goes
end_cr = int(carrington_rotation_number(datetime.datetime(2025, 1, 1))) - 1       # stop at last CR of 2024
n_crs = end_cr - start_cr  # Number of CRs to include

seed = 151201  # Random seed for ensemble perturbations

OVERWRITE=False   # Will overwrite previous huxt runs with same run_number if True

run_number = 1
save_dir = f'HUXt{run_number}'

# Run the ambient huxt for specified CRS
HU.run_multiple_ambient_ensembles(start_cr, n_crs, n_ensemble=100, seed=seed, save_folder=save_dir, overwrite=OVERWRITE)


# Checking that files have saved properly
cr = 1892
file_location = os.path.join(os.getcwd(), 'src', 'data', 'HUXt', save_dir, f'HUXt_rotation_{cr}')
df = pd.read_parquet(file_location)
df.head()



