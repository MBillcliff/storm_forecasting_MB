{
 "cells": [
  {
   "cell_type": "markdown",
   "id": "ea060ee3-0f60-4398-a8a8-48cce83d6650",
   "metadata": {},
   "source": [
    "# Downloading Required OMNI and Hpo Data"
   ]
  },
  {
   "cell_type": "code",
   "execution_count": null,
   "id": "e03bb979-b6d5-46c8-a0fb-b852e85f4510",
   "metadata": {},
   "outputs": [],
   "source": [
    "%load_ext autoreload\n",
    "%autoreload 2"
   ]
  },
  {
   "cell_type": "code",
   "execution_count": null,
   "id": "468067e2-1ef4-42b2-a4f0-6a9b1c0d413a",
   "metadata": {},
   "outputs": [],
   "source": [
    "import pandas as pd\n",
    "import os\n",
    "import sys\n",
    "\n",
    "ml_utils_dir = os.path.join(os.getcwd(), 'src', 'ml')\n",
    "\n",
    "sys.path.append(ml_utils_dir)\n",
    "\n",
    "# Get functions for processing hp30\n",
    "from data_loader import process_hp30_data"
   ]
  },
  {
   "cell_type": "markdown",
   "id": "eff2226d-b92b-4e9d-bf0c-2882423ab3ea",
   "metadata": {},
   "source": [
    "## Hp30\n",
    "\n",
    "1. Download data manually from: https://kp.gfz.de/en/hp30-hp60/data\n",
    "\n",
    "Start date: 01/01/1995    End date: 01/01/2025\n",
    "Index selection: Hp30     Format Selection: Text File\n",
    "\n",
    "2. From this page, save as a .txt file using 'ctrl + s' on windows or 'cmd + s' on mac and choose the 'src/data' path\n",
    "\n",
    "3. Run the following cell to reformat into required dataset"
   ]
  },
  {
   "cell_type": "code",
   "execution_count": null,
   "id": "a7e38a55-4032-415a-b151-ee1fd22e3b9c",
   "metadata": {},
   "outputs": [],
   "source": [
    "times, hp30 = process_hp30_data()   # Read in downloaded hp30 data\n",
    "\n",
    "df = pd.DataFrame(data=hp30, columns=['hp30'], index=times)   # Convert to pandas DataFrame\n",
    "\n",
    "df.to_parquet(os.path.join(os.getcwd(), 'src', 'data', 'hp30df.parquet'))  # Save as parquet file for efficient loading"
   ]
  },
  {
   "cell_type": "code",
   "execution_count": null,
   "id": "2bf5346b-461b-4801-a60f-9c8750a05c6e",
   "metadata": {},
   "outputs": [],
   "source": [
    "# Check that data was saved properly\n",
    "\n",
    "loaded_df = pd.read_parquet(os.path.join(os.getcwd(), 'src', 'data', 'hp30df.parquet'))\n",
    "loaded_df.head()"
   ]
  },
  {
   "cell_type": "markdown",
   "id": "123e076a-b812-4dc6-9873-191111f21acb",
   "metadata": {},
   "source": [
    "## OMNI\n",
    "\n",
    "1. Download data manually from: https://omniweb.gsfc.nasa.gov/form/dx1.html\n",
    "\n",
    "2. Select \"Create File\" at the top of the web page\n",
    "\n",
    "3. Select resolution: \"Hourly Averaged\"\n",
    "\n",
    "4. Start date: 19950101   End date: 20250101\n",
    "\n",
    "5. Select only \"Flow speed, km/sec\" in the variable selection\n",
    "\n",
    "6. Open the ASCII Data File\n",
    "\n",
    "7. From this page, save as 'omni.txt' using 'ctrl + s' on windows or 'cmd + s' on mac and choose the 'src/data' path\n",
    "\n",
    "8. Run the following cell to reformat into required dataset"
   ]
  },
  {
   "cell_type": "code",
   "execution_count": null,
   "id": "df9dbbf5-3796-4c64-96f0-0efdb3fc7ede",
   "metadata": {},
   "outputs": [],
   "source": [
    "file_path = os.path.join(os.getcwd(), 'src', 'data', 'omni.txt')\n",
    "omni_df = pd.read_csv(file_path, sep='\\s+', names=['YEAR', 'DOY', 'HR', 'Velocity'], header=None)\n",
    "\n",
    "datetime_index = pd.to_datetime(omni_df['YEAR'] * 1000 + omni_df['DOY'], format='%Y%j') + pd.to_timedelta(omni_df['HR'], unit='h')\n",
    "\n",
    "# Set the datetime index to the DataFrame\n",
    "df = omni_df.set_index(datetime_index, inplace=False)\n",
    "\n",
    "# Drop the 'Year', 'Day', and 'Hour' columns\n",
    "df.drop(columns=['YEAR', 'DOY', 'HR'], inplace=True)\n",
    "\n",
    "save_loc = os.path.join(os.getcwd(), 'src', 'data', 'OMNI_solar_wind.parquet')\n",
    "df.to_parquet(save_loc)"
   ]
  },
  {
   "cell_type": "code",
   "execution_count": null,
   "id": "cffa1769-53f9-4359-a893-34fcb1f621fd",
   "metadata": {},
   "outputs": [],
   "source": [
    "# Check data was saved correctly\n",
    "\n",
    "loaded_df = pd.read_parquet(save_loc)\n",
    "loaded_df.head()"
   ]
  },
  {
   "cell_type": "code",
   "execution_count": null,
   "id": "a837a984-2a1e-4be9-bd8a-9865f70ce550",
   "metadata": {},
   "outputs": [],
   "source": []
  }
 ],
 "metadata": {
  "kernelspec": {
   "display_name": "Python 3 (ipykernel)",
   "language": "python",
   "name": "python3"
  },
  "language_info": {
   "codemirror_mode": {
    "name": "ipython",
    "version": 3
   },
   "file_extension": ".py",
   "mimetype": "text/x-python",
   "name": "python",
   "nbconvert_exporter": "python",
   "pygments_lexer": "ipython3",
   "version": "3.9.19"
  }
 },
 "nbformat": 4,
 "nbformat_minor": 5
}
